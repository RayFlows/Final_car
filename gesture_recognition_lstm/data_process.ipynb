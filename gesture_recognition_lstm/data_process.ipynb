{
 "cells": [
  {
   "cell_type": "code",
   "execution_count": 8,
   "id": "42ded44b",
   "metadata": {},
   "outputs": [],
   "source": [
    "import os\n",
    "import numpy as np\n",
    "from sklearn.model_selection import train_test_split\n",
    "import shutil"
   ]
  },
  {
   "cell_type": "code",
   "execution_count": 9,
   "id": "ff68c88e",
   "metadata": {},
   "outputs": [],
   "source": [
    "# 设置路径\n",
    "train_dir = \"train_data\"        # 训练集目录\n",
    "val_dir = \"val_data\"            # 验证集目录\n",
    "none_class_samples = 100   # none类的样本数量（可以自行调整）\n"
   ]
  },
  {
   "cell_type": "code",
   "execution_count": 10,
   "id": "46bde313",
   "metadata": {},
   "outputs": [],
   "source": [
    "# 获取所有手势类别\n",
    "categories = [f for f in os.listdir(train_dir) if os.path.isdir(os.path.join(train_dir, f))]\n",
    "\n",
    "# 标签映射（包括none）\n",
    "gesture_labels = {category: idx + 1 for idx, category in enumerate(categories)}\n",
    "gesture_labels[\"none\"] = 0\n",
    "\n",
    "# 读取并准备数据\n",
    "all_samples_train = []\n",
    "all_labels_train = []\n",
    "\n",
    "all_samples_val = []\n",
    "all_labels_val = []"
   ]
  },
  {
   "cell_type": "code",
   "execution_count": 11,
   "id": "91d02dae",
   "metadata": {},
   "outputs": [],
   "source": [
    "# 1. 处理训练集数据\n",
    "for category in categories:\n",
    "    category_train_dir = os.path.join(train_dir, category)\n",
    "    files = [f for f in os.listdir(category_train_dir) if f.endswith('.npy')]\n",
    "    \n",
    "    for file in files:\n",
    "        file_path = os.path.join(category_train_dir, file)\n",
    "        sample = np.load(file_path)  # shape: (30, 21, 3)\n",
    "        all_samples_train.append(sample)\n",
    "        all_labels_train.append(gesture_labels[category])\n",
    "\n",
    "# 2. 处理验证集数据\n",
    "for category in categories:\n",
    "    category_val_dir = os.path.join(val_dir, category)\n",
    "    files = [f for f in os.listdir(category_val_dir) if f.endswith('.npy')]\n",
    "    \n",
    "    for file in files:\n",
    "        file_path = os.path.join(category_val_dir, file)\n",
    "        sample = np.load(file_path)  # shape: (30, 21, 3)\n",
    "        all_samples_val.append(sample)\n",
    "        all_labels_val.append(gesture_labels[category])"
   ]
  },
  {
   "cell_type": "code",
   "execution_count": 12,
   "id": "7bb21425",
   "metadata": {},
   "outputs": [],
   "source": [
    "# 3. 创建none类的样本并加入训练集和验证集\n",
    "# 生成训练集中的none样本\n",
    "for i in range(none_class_samples):\n",
    "    none_sample = np.zeros((30, 21, 3))  # 生成全0的虚拟样本\n",
    "    all_samples_train.append(none_sample)\n",
    "    all_labels_train.append(gesture_labels[\"none\"])\n",
    "\n",
    "# 生成验证集中的none样本\n",
    "for i in range(none_class_samples):\n",
    "    none_sample = np.zeros((30, 21, 3))  # 生成全0的虚拟样本\n",
    "    all_samples_val.append(none_sample)\n",
    "    all_labels_val.append(gesture_labels[\"none\"])"
   ]
  },
  {
   "cell_type": "code",
   "execution_count": 13,
   "id": "03ed1814",
   "metadata": {},
   "outputs": [
    {
     "name": "stdout",
     "output_type": "stream",
     "text": [
      "训练集样本数：13773\n",
      "验证集样本数：3444\n"
     ]
    }
   ],
   "source": [
    "# 将数据转换为NumPy数组\n",
    "all_samples_train = np.array(all_samples_train)  # shape: (num_samples, 30, 21, 3)\n",
    "all_labels_train = np.array(all_labels_train)    # shape: (num_samples,)\n",
    "\n",
    "all_samples_val = np.array(all_samples_val)  # shape: (num_samples, 30, 21, 3)\n",
    "all_labels_val = np.array(all_labels_val)    # shape: (num_samples,)\n",
    "\n",
    "# 划分训练集和验证集（80%训练集，20%验证集）\n",
    "X_train, X_val, y_train, y_val = train_test_split(all_samples_train, all_labels_train, test_size=0.2, random_state=42)\n",
    "\n",
    "print(f\"训练集样本数：{X_train.shape[0]}\")\n",
    "print(f\"验证集样本数：{X_val.shape[0]}\")"
   ]
  },
  {
   "cell_type": "code",
   "execution_count": 14,
   "id": "d56a45aa",
   "metadata": {},
   "outputs": [
    {
     "name": "stdout",
     "output_type": "stream",
     "text": [
      "数据已保存到训练集和验证集文件夹中。\n"
     ]
    }
   ],
   "source": [
    "# 创建对应的文件夹\n",
    "os.makedirs(train_dir, exist_ok=True)\n",
    "os.makedirs(val_dir, exist_ok=True)\n",
    "\n",
    "# 创建类别文件夹并保存训练集和验证集数据\n",
    "for category in categories + ['none']:  # 加入none类别\n",
    "    # 训练集和验证集文件夹\n",
    "    os.makedirs(os.path.join(train_dir, category), exist_ok=True)\n",
    "    os.makedirs(os.path.join(val_dir, category), exist_ok=True)\n",
    "\n",
    "# 保存训练集数据\n",
    "for sample, label in zip(X_train, y_train):\n",
    "    category = [key for key, value in gesture_labels.items() if value == label][0]\n",
    "    file_name = f\"{category}_{np.random.randint(100000)}.npy\"  # 使用随机数生成文件名，避免冲突\n",
    "    file_path = os.path.join(train_dir, category, file_name)\n",
    "    np.save(file_path, sample)\n",
    "\n",
    "# 保存验证集数据\n",
    "for sample, label in zip(X_val, y_val):\n",
    "    category = [key for key, value in gesture_labels.items() if value == label][0]\n",
    "    file_name = f\"{category}_{np.random.randint(100000)}.npy\"\n",
    "    file_path = os.path.join(val_dir, category, file_name)\n",
    "    np.save(file_path, sample)\n",
    "\n",
    "print(\"数据已保存到训练集和验证集文件夹中。\")\n"
   ]
  }
 ],
 "metadata": {
  "kernelspec": {
   "display_name": "tfenv",
   "language": "python",
   "name": "python3"
  },
  "language_info": {
   "codemirror_mode": {
    "name": "ipython",
    "version": 3
   },
   "file_extension": ".py",
   "mimetype": "text/x-python",
   "name": "python",
   "nbconvert_exporter": "python",
   "pygments_lexer": "ipython3",
   "version": "3.9.23"
  }
 },
 "nbformat": 4,
 "nbformat_minor": 5
}
