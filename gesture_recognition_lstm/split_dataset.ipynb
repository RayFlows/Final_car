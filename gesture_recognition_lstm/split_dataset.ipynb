{
 "cells": [
  {
   "cell_type": "code",
   "execution_count": 1,
   "id": "425cdf2e",
   "metadata": {},
   "outputs": [
    {
     "name": "stdout",
     "output_type": "stream",
     "text": [
      "类别 point down 数据划分完成：\n",
      "  训练集样本数: 1549\n",
      "  验证集样本数: 388\n",
      "类别 point up 数据划分完成：\n",
      "  训练集样本数: 1123\n",
      "  验证集样本数: 281\n",
      "类别 paml 数据划分完成：\n",
      "  训练集样本数: 3300\n",
      "  验证集样本数: 825\n",
      "类别 point left 数据划分完成：\n",
      "  训练集样本数: 2263\n",
      "  验证集样本数: 566\n",
      "类别 two 数据划分完成：\n",
      "  训练集样本数: 3098\n",
      "  验证集样本数: 775\n",
      "类别 fist 数据划分完成：\n",
      "  训练集样本数: 3281\n",
      "  验证集样本数: 821\n",
      "类别 point right 数据划分完成：\n",
      "  训练集样本数: 2503\n",
      "  验证集样本数: 626\n",
      "数据集划分完成！\n"
     ]
    }
   ],
   "source": [
    "import os\n",
    "import shutil\n",
    "from sklearn.model_selection import train_test_split\n",
    "\n",
    "# 设置大文件夹路径和目标文件夹\n",
    "dataset_dir = \"segment_data\"  # 主文件夹路径\n",
    "train_dir = \"train_data\"      # 训练集存放路径\n",
    "val_dir = \"val_data\"          # 验证集存放路径\n",
    "\n",
    "# 创建训练集和验证集文件夹\n",
    "os.makedirs(train_dir, exist_ok=True)\n",
    "os.makedirs(val_dir, exist_ok=True)\n",
    "\n",
    "# 获取所有类别的文件夹\n",
    "categories = [f for f in os.listdir(dataset_dir) if os.path.isdir(os.path.join(dataset_dir, f))]\n",
    "\n",
    "# 遍历每个类别文件夹\n",
    "for category in categories:\n",
    "    category_path = os.path.join(dataset_dir, category)\n",
    "\n",
    "    # 获取该类别下的所有 .npy 文件\n",
    "    files = [f for f in os.listdir(category_path) if f.endswith('.npy')]\n",
    "    \n",
    "    # 划分训练集和验证集（80% 训练集，20% 验证集）\n",
    "    train_files, val_files = train_test_split(files, test_size=0.2, random_state=42)\n",
    "    \n",
    "    # 为每个类别创建训练集和验证集文件夹\n",
    "    category_train_dir = os.path.join(train_dir, category)\n",
    "    category_val_dir = os.path.join(val_dir, category)\n",
    "    os.makedirs(category_train_dir, exist_ok=True)\n",
    "    os.makedirs(category_val_dir, exist_ok=True)\n",
    "\n",
    "    # 将训练集文件移动到 train 文件夹中\n",
    "    for file in train_files:\n",
    "        source_path = os.path.join(category_path, file)\n",
    "        dest_path = os.path.join(category_train_dir, file)\n",
    "        shutil.copy(source_path, dest_path)\n",
    "\n",
    "    # 将验证集文件移动到 val 文件夹中\n",
    "    for file in val_files:\n",
    "        source_path = os.path.join(category_path, file)\n",
    "        dest_path = os.path.join(category_val_dir, file)\n",
    "        shutil.copy(source_path, dest_path)\n",
    "\n",
    "    print(f\"类别 {category} 数据划分完成：\")\n",
    "    print(f\"  训练集样本数: {len(train_files)}\")\n",
    "    print(f\"  验证集样本数: {len(val_files)}\")\n",
    "\n",
    "print(\"数据集划分完成！\")"
   ]
  }
 ],
 "metadata": {
  "kernelspec": {
   "display_name": "tfenv",
   "language": "python",
   "name": "python3"
  },
  "language_info": {
   "codemirror_mode": {
    "name": "ipython",
    "version": 3
   },
   "file_extension": ".py",
   "mimetype": "text/x-python",
   "name": "python",
   "nbconvert_exporter": "python",
   "pygments_lexer": "ipython3",
   "version": "3.9.23"
  }
 },
 "nbformat": 4,
 "nbformat_minor": 5
}
