{
 "cells": [
  {
   "cell_type": "code",
   "execution_count": 1,
   "id": "f41ffdd1",
   "metadata": {},
   "outputs": [],
   "source": [
    "# 1. 导入必要的库\n",
    "import torch\n",
    "import torch.optim as optim\n",
    "from gesture_lstm import GestureLSTM  # 你的LSTM模型\n",
    "from dataset import GestureDataset  # 导入我们定义的数据集类\n",
    "from torch.utils.data import DataLoader\n",
    "import numpy as np\n",
    "import os\n",
    "import copy\n"
   ]
  },
  {
   "cell_type": "code",
   "execution_count": 2,
   "id": "72b264e7",
   "metadata": {},
   "outputs": [
    {
     "name": "stdout",
     "output_type": "stream",
     "text": [
      "torch.Size([32, 30, 63]) torch.Size([32])\n"
     ]
    }
   ],
   "source": [
    "# 2. 加载数据\n",
    "train_data_dir = \"train_data\"\n",
    "val_data_dir = \"val_data\"\n",
    "\n",
    "# 创建训练集和验证集的Dataset对象\n",
    "train_dataset = GestureDataset(train_data_dir)\n",
    "val_dataset = GestureDataset(val_data_dir)\n",
    "\n",
    "# 创建DataLoader对象，用于批量加载数据\n",
    "batch_size = 32\n",
    "train_loader = DataLoader(train_dataset, batch_size=batch_size, shuffle=True)\n",
    "val_loader = DataLoader(val_dataset, batch_size=batch_size, shuffle=False)\n",
    "\n",
    "# 验证DataLoader是否正常工作\n",
    "for data, labels in train_loader:\n",
    "    print(data.shape, labels.shape)  # 应该输出 torch.Size([32, 30, 63]) 和 torch.Size([32])\n",
    "    break  # 只打印一个batch"
   ]
  },
  {
   "cell_type": "code",
   "execution_count": 3,
   "id": "5aaf3b7b",
   "metadata": {},
   "outputs": [],
   "source": [
    "# 3. 定义LSTM模型\n",
    "model = GestureLSTM(input_size=63, hidden_size=128, num_classes=8, num_layers=2, dropout=0.5)  # 8类（包括none）\n",
    "\n",
    "# 4. 损失函数和优化器\n",
    "criterion = torch.nn.CrossEntropyLoss()  # 使用交叉熵损失\n",
    "optimizer = torch.optim.Adam(model.parameters(), lr=0.001)\n"
   ]
  },
  {
   "cell_type": "code",
   "execution_count": 4,
   "id": "cc7f7ddf",
   "metadata": {},
   "outputs": [
    {
     "name": "stdout",
     "output_type": "stream",
     "text": [
      "Epoch [1/50] - Loss: 0.0650, Train Accuracy: 98.42%, Val Accuracy: 98.91%\n",
      "Epoch [2/50] - Loss: 0.0249, Train Accuracy: 99.24%, Val Accuracy: 99.61%\n",
      "Epoch [3/50] - Loss: 0.0191, Train Accuracy: 99.41%, Val Accuracy: 99.38%\n",
      "Epoch [4/50] - Loss: 0.0187, Train Accuracy: 99.40%, Val Accuracy: 99.77%\n",
      "Epoch [5/50] - Loss: 0.0123, Train Accuracy: 99.64%, Val Accuracy: 99.84%\n",
      "Epoch [6/50] - Loss: 0.0094, Train Accuracy: 99.72%, Val Accuracy: 95.44%\n",
      "Epoch [7/50] - Loss: 0.0102, Train Accuracy: 99.67%, Val Accuracy: 99.47%\n",
      "Epoch [8/50] - Loss: 0.0095, Train Accuracy: 99.70%, Val Accuracy: 99.83%\n",
      "Epoch [9/50] - Loss: 0.0102, Train Accuracy: 99.70%, Val Accuracy: 74.01%\n",
      "Epoch [10/50] - Loss: 0.0071, Train Accuracy: 99.76%, Val Accuracy: 99.86%\n",
      "Epoch [11/50] - Loss: 0.0072, Train Accuracy: 99.77%, Val Accuracy: 99.87%\n",
      "Epoch [12/50] - Loss: 0.0051, Train Accuracy: 99.82%, Val Accuracy: 99.69%\n",
      "Epoch [13/50] - Loss: 0.0043, Train Accuracy: 99.88%, Val Accuracy: 99.95%\n",
      "Epoch [14/50] - Loss: 0.0057, Train Accuracy: 99.81%, Val Accuracy: 99.66%\n",
      "Epoch [15/50] - Loss: 0.0040, Train Accuracy: 99.87%, Val Accuracy: 99.92%\n",
      "Epoch [16/50] - Loss: 0.0046, Train Accuracy: 99.86%, Val Accuracy: 99.90%\n",
      "Epoch [17/50] - Loss: 0.0058, Train Accuracy: 99.83%, Val Accuracy: 99.95%\n",
      "Epoch [18/50] - Loss: 0.0018, Train Accuracy: 99.93%, Val Accuracy: 99.81%\n",
      "Early stopping triggered\n",
      "Model saved to 'final_model.pth'\n"
     ]
    }
   ],
   "source": [
    "# 4. 训练过程\n",
    "epochs = 50\n",
    "early_stop_patience = 5  # 设置容忍度为5个epoch\n",
    "best_val_acc = 0.0  # 最佳验证集准确率\n",
    "patience_counter = 0  # 用于记录验证集准确率没有提升的次数\n",
    "best_model_wts = copy.deepcopy(model.state_dict())  # 保存最佳模型的权重\n",
    "\n",
    "for epoch in range(epochs):\n",
    "    model.train()\n",
    "    running_loss = 0.0\n",
    "    correct_train = 0\n",
    "    total_train = 0\n",
    "    \n",
    "    # 训练循环\n",
    "    for i, (inputs, labels) in enumerate(train_loader):\n",
    "        optimizer.zero_grad()\n",
    "        \n",
    "        # 前向传播\n",
    "        outputs = model(inputs)\n",
    "        \n",
    "        # 计算损失\n",
    "        loss = criterion(outputs, labels)\n",
    "        loss.backward()\n",
    "        optimizer.step()\n",
    "        \n",
    "        # 统计训练准确率\n",
    "        _, preds = torch.max(outputs, dim=1)\n",
    "        correct_train += (preds == labels).sum().item()\n",
    "        total_train += labels.size(0)\n",
    "        \n",
    "        running_loss += loss.item()\n",
    "    \n",
    "    train_acc = correct_train / total_train\n",
    "    train_loss = running_loss / len(train_loader)\n",
    "    \n",
    "    # 验证过程\n",
    "    model.eval()\n",
    "    correct_val = 0\n",
    "    total_val = 0\n",
    "    with torch.no_grad():\n",
    "        for i, (inputs, labels) in enumerate(val_loader):\n",
    "            outputs = model(inputs)\n",
    "            _, preds = torch.max(outputs, 1)\n",
    "            correct_val += (preds == labels).sum().item()\n",
    "            total_val += labels.size(0)\n",
    "    \n",
    "    val_acc = correct_val / total_val\n",
    "    \n",
    "    # 如果验证集准确率提高，保存模型\n",
    "    if val_acc > best_val_acc:\n",
    "        best_val_acc = val_acc\n",
    "        best_model_wts = copy.deepcopy(model.state_dict())  # 保存最佳权重\n",
    "        patience_counter = 0  # 重置容忍度计数\n",
    "    else:\n",
    "        patience_counter += 1  # 增加容忍度计数\n",
    "    \n",
    "    print(f\"Epoch [{epoch+1}/{epochs}] - Loss: {train_loss:.4f}, Train Accuracy: {train_acc*100:.2f}%, Val Accuracy: {val_acc*100:.2f}%\")\n",
    "    \n",
    "    # 如果连续多个epoch没有验证集准确率提升，提前停止训练\n",
    "    if patience_counter >= early_stop_patience:\n",
    "        print(\"Early stopping triggered\")\n",
    "        break\n",
    "\n",
    "# 5. 保存最终模型（最佳模型）\n",
    "model.load_state_dict(best_model_wts)  # 加载最佳模型权重\n",
    "torch.save(model.state_dict(), 'final_model.pth')  # 保存模型权重\n",
    "print(\"Model saved to 'final_model.pth'\")"
   ]
  }
 ],
 "metadata": {
  "kernelspec": {
   "display_name": "base",
   "language": "python",
   "name": "python3"
  },
  "language_info": {
   "codemirror_mode": {
    "name": "ipython",
    "version": 3
   },
   "file_extension": ".py",
   "mimetype": "text/x-python",
   "name": "python",
   "nbconvert_exporter": "python",
   "pygments_lexer": "ipython3",
   "version": "3.12.2"
  }
 },
 "nbformat": 4,
 "nbformat_minor": 5
}
